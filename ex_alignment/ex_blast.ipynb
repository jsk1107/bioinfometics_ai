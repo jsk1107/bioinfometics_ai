{
 "cells": [
  {
   "cell_type": "markdown",
   "source": [
    "# BLAST 예제"
   ],
   "metadata": {
    "collapsed": false,
    "pycharm": {
     "name": "#%% md\n"
    }
   }
  },
  {
   "cell_type": "markdown",
   "source": [
    "이 예제는 BLAST를 이해하기 위해 코드레벨에서 실행을 해보는 예제이다.\n",
    "임의의 염기서열이 들어왔을때, BLAST를 통해서 어떻게 정렬이 진행되는지 확인하고자한다."
   ],
   "metadata": {
    "collapsed": false,
    "pycharm": {
     "name": "#%% md\n"
    }
   }
  },
  {
   "cell_type": "code",
   "execution_count": 1,
   "outputs": [
    {
     "name": "stdout",
     "output_type": "stream",
     "text": [
      "Requirement already satisfied: biopython in c:\\anaconda3\\lib\\site-packages (1.79)\n",
      "Requirement already satisfied: numpy in c:\\anaconda3\\lib\\site-packages (from biopython) (1.19.5)\n"
     ]
    }
   ],
   "source": [
    "!pip install biopython"
   ],
   "metadata": {
    "collapsed": false,
    "pycharm": {
     "name": "#%%\n"
    }
   }
  },
  {
   "cell_type": "markdown",
   "source": [
    "## Query서열 만들기"
   ],
   "metadata": {
    "collapsed": false,
    "pycharm": {
     "name": "#%% md\n"
    }
   }
  },
  {
   "cell_type": "markdown",
   "source": [
    "임의의 염기서열(Query)를 확보하기 위해서, 우선 NCBI에서 제공하는 누룩곰팡이 서열을 검색하여 일부를 발췌한다.\n",
    "아래와 같이 확인할 수 있으며, 단락당 길이 70으로 구분되어있으므로 이부분을 정제해서 사용하도록 한다.\n"
   ],
   "metadata": {
    "collapsed": false,
    "pycharm": {
     "name": "#%% md\n"
    }
   }
  },
  {
   "cell_type": "markdown",
   "source": [
    ">WHVT01000001.1 Aspergillus fischeri strain NRRL4161 NODE_1_length_1856684_cov_136.405182, whole genome shotgun sequence\n",
    "CTAACCCTAACCCTAACCCTAACCCTAACCCTAACCCTAACCCTAACCCTAACCCTAACCCTAACCCTAA\n",
    "CCCTAACTTTGAGAAAGATGTGAGGTTTTATATTGTCTAGTTAGCACACTACCCTATTGTGCTAGGAATA\n",
    "CCCTGGATAAAGGTACATAACCCCCTGATATAATTCACAGCCCACAGTATTATATTTAATAGTGATTACT"
   ],
   "metadata": {
    "collapsed": false,
    "pycharm": {
     "name": "#%% md\n"
    }
   }
  },
  {
   "cell_type": "code",
   "execution_count": 1,
   "outputs": [
    {
     "data": {
      "text/plain": "'CTAACCCTAACCCTAACCCTAACCCTAACCCTAACCCTAACCCTAACCCTAACCCTAACCCTAACCCTAACCCTAACTTTGAGAAAGATGTGAGGTTTTATATTGTCTAGTTAGCACACTACCCTATTGTGCTAGGAATACCCTGGATAAAGGTACATAACCCCCTGATATAATTCACAGCCCACAGTATTATATTTAATAGTGATTACT'"
     },
     "execution_count": 1,
     "metadata": {},
     "output_type": "execute_result"
    }
   ],
   "source": [
    "nucleotide_seq = \"CTAACCCTAACCCTAACCCTAACCCTAACCCTAACCCTAACCCTAACCCTAACCCTAACCCTAACCCTAA CCCTAACTTTGAGAAAGATGTGAGGTTTTATATTGTCTAGTTAGCACACTACCCTATTGTGCTAGGAATA CCCTGGATAAAGGTACATAACCCCCTGATATAATTCACAGCCCACAGTATTATATTTAATAGTGATTACT\"\n",
    "nucleotide_seq = nucleotide_seq.replace(\" \", \"\")\n",
    "nucleotide_seq"
   ],
   "metadata": {
    "collapsed": false,
    "pycharm": {
     "name": "#%%\n"
    }
   }
  },
  {
   "cell_type": "markdown",
   "source": [
    "## NCBI에서 제공하는 BLAST API 이용하기"
   ],
   "metadata": {
    "collapsed": false,
    "pycharm": {
     "name": "#%% md\n"
    }
   }
  },
  {
   "cell_type": "markdown",
   "source": [
    "NCBIWWW 모듈에서 qblast 함수를 제공한다. NCBI 서버에서 제공하는 BLAST를 수행하게되며, return은 xml 형태이다.\n",
    "Sequence 길이에 따라 상이하겠지만, 상당히 오랜 시간이 걸린다. Database에 있는 모든 Sequence와 query를 정렬하기 때문"
   ],
   "metadata": {
    "collapsed": false,
    "pycharm": {
     "name": "#%% md\n"
    }
   }
  },
  {
   "cell_type": "code",
   "execution_count": 9,
   "outputs": [
    {
     "name": "stdout",
     "output_type": "stream",
     "text": [
      "총 걸린시간: 731.6572370529175\n"
     ]
    }
   ],
   "source": [
    "import time\n",
    "from Bio.Blast import NCBIWWW\n",
    "\n",
    "\n",
    "st = time.time()\n",
    "res = NCBIWWW.qblast(program='blastn', database='nt', sequence=nucleotide_seq)\n",
    "ed = time.time()\n",
    "print(f'총 걸린시간: {ed-st}')"
   ],
   "metadata": {
    "collapsed": false,
    "pycharm": {
     "name": "#%%\n"
    }
   }
  },
  {
   "cell_type": "markdown",
   "source": [
    "BLAST를 실행하는데 너무 오래걸리므로 해당 파일은 저장한 후, 계속 사용할 수 있도록 한다."
   ],
   "metadata": {
    "collapsed": false,
    "pycharm": {
     "name": "#%% md\n"
    }
   }
  },
  {
   "cell_type": "code",
   "execution_count": 10,
   "outputs": [],
   "source": [
    "with open('../sample_data/ex_blast.xml', 'w', encoding='utf-8') as f:\n",
    "    f.write(res.read())"
   ],
   "metadata": {
    "collapsed": false,
    "pycharm": {
     "name": "#%%\n"
    }
   }
  },
  {
   "cell_type": "markdown",
   "source": [
    "## BLAST 결과 확인"
   ],
   "metadata": {
    "collapsed": false,
    "pycharm": {
     "name": "#%% md\n"
    }
   }
  },
  {
   "cell_type": "code",
   "execution_count": 2,
   "outputs": [
    {
     "name": "stdout",
     "output_type": "stream",
     "text": [
      "****Alignment****\n",
      "sequence:  gi|11991765|gb|AF202956.1| Aspergillus fumigatus long terminal repeat, complete sequence; pol gene, partial sequence; and long terminal repeat, complete sequence\n",
      "length:  5820\n",
      "e value:  4.09826e-33\n",
      "ACTTTGAGAAAGATGTGAGGTTTTATATTGTCTAGTTAGCACACTACCCTATTGTGCTAGGAATACCCTGGATAA...\n",
      "||||| |||||||| | |||||||||||| ||||||||||||| |||| |||| | ||||||||||| | |||||...\n",
      "ACTTTAAGAAAGATATAAGGTTTTATATTATCTAGTTAGCACATTACCTTATTATACTAGGAATACCTTAGATAA...\n",
      "****Alignment****\n",
      "sequence:  gi|2063804863|emb|OU343212.1| Thunnus maccoyii genome assembly, chromosome: 22\n",
      "length:  26962447\n",
      "e value:  2.42229e-23\n",
      "CTAACCCTAACCCTAACCCTAACCCTAACCCTAACCCTAACCCTAACCCTAACCCTAACCCTAACCCTAACCCTA...\n",
      "|||||| ||||||||||||||||| ||||||||||| ||||| ||||||||||||||||||||||||||||||||...\n",
      "CTAACCATAACCCTAACCCTAACCATAACCCTAACCATAACCATAACCCTAACCCTAACCCTAACCCTAACCCTA...\n",
      "****Alignment****\n",
      "sequence:  gi|1795661398|emb|LR738421.1| Lutra lutra genome assembly, chromosome: X\n",
      "length:  99689450\n",
      "e value:  1.34091e-07\n",
      "CCTAACCCTAACCCTAACCCTAACCCTAACCCTAACCCTAACCCTAACTTTGAGAAAGATG...\n",
      "||||||||||   || |||||||||||||||| || ||||||||||  | |||||||||||...\n",
      "CCTAACCCTATTTCTCACCCTAACCCTAACCCCAATCCTAACCCTAGATGTGAGAAAGATG...\n"
     ]
    }
   ],
   "source": [
    "from Bio.Blast import NCBIXML\n",
    "\n",
    "with open('../sample_data/ex_blast.xml', 'r', encoding='utf-8') as f:\n",
    "    blast_results = NCBIXML.parse(f)\n",
    "    for blast_result in blast_results:\n",
    "        for alignment in blast_result.alignments:\n",
    "            for hsp in alignment.hsps:\n",
    "                if hsp.expect < 0.0001:\n",
    "                    print('****Alignment****')\n",
    "                    print('sequence: ', alignment.title)\n",
    "                    print('length: ', alignment.length)\n",
    "                    print('e value: ', hsp.expect)\n",
    "                    print(hsp.query[0:75] + '...')\n",
    "                    print(hsp.match[0:75] + '...')\n",
    "                    print(hsp.sbjct[0:75] + '...')"
   ],
   "metadata": {
    "collapsed": false,
    "pycharm": {
     "name": "#%%\n"
    }
   }
  },
  {
   "cell_type": "markdown",
   "source": [
    "함수들에 대해서 하나씩 살펴보면,\n",
    "- `alignment.title`에는 DB에서 조회된 염기서열의 메타정보가 들어있다.\n",
    "- `alignment.length`에는 DB에서 조회된 염기서열의 전체 길이를 나타낸다.\n",
    "- `hsp.expect`에는 hsp(high score pair)의 e_value가 들어있다. **e-value가 낮을수록 신뢰할만한 수치**라고 판단한다.\n",
    "- `hsp.query`에는 내가 입력으로 넣은 염기서열이 들어온다. BLAST를 통해 정렬이 된 영역만을 보여준다.\n",
    "- `hsp.sbjct`에는 DB의 염기서열이 들어온다. 마찬가지로 정렬이 된 영역만을 보여준다.\n",
    "- `hsp.match`에는 실제로 match가 된 영역을 보여준다. `|`로 표현된것은 Exact Match가 된 부분을 나타내고, 공백으로 된 부분은 Match가 되지 않은 영역을 보여준다.\n",
    "\n",
    "그럼 결과에 대해서 해석을 본다.\n",
    "1. 가장 낮은 e_value를 가지고 있는, 길이 5,820짜리의 염기서열은 \"누룩곰팡이의 긴 반복서열\" 이라고 한다.\n",
    "2. 두번째로 낮은 e_value를 가지고 있는, 길이 26,962,447짜리의 염기서열은 \"남방참다랑어의 22번째 염색체\" 라고 한다.\n",
    "3. 세번째로 낮은 e_value를 가지고있는, 길이 99,689,450짜리의 염기서열은 \"수달의 X염색체\" 라고 한다.\n",
    "\n",
    "이처럼 Query서열을 통해서 Reference서열과의 정렬을 통해 Query서열이 어떠한 \"종\"인지 또는 \"염색체\"인지 또는 \"유전자\"인지 등을 식별할 수 있게 된다.\n",
    "물론 여기에서의 문제는 Query서열이 \"누룩곰팡이의 긴 반복서열\"인지, \"남방참다랑어의 22번째 염색체\"인지, \"수달의 X염색체\"인지는 아직 알 수 없지만, 후보군을 뽑았다는것에는 상당한 의미가 있다. 이 예제에서는 누룩곰팡이 서열의 일부를 사용했으므로, 우리는 Query로 발췌한 일부서열이 \"누룩곰팡이의 긴 반복서열\"임을 특정할 수 있다.\n",
    "\n",
    "하지만, 실제로는 Query 서열이 어떠한 서열인지 알지 못하는 상태이기 때문에, 후보군을 좀더 분석해야 정확한 식별이 가능하다."
   ],
   "metadata": {
    "collapsed": false,
    "pycharm": {
     "name": "#%% md\n"
    }
   }
  }
 ],
 "metadata": {
  "kernelspec": {
   "display_name": "Python 3",
   "language": "python",
   "name": "python3"
  },
  "language_info": {
   "codemirror_mode": {
    "name": "ipython",
    "version": 2
   },
   "file_extension": ".py",
   "mimetype": "text/x-python",
   "name": "python",
   "nbconvert_exporter": "python",
   "pygments_lexer": "ipython2",
   "version": "2.7.6"
  }
 },
 "nbformat": 4,
 "nbformat_minor": 0
}